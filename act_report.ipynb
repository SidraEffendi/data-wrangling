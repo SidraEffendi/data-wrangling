{
 "cells": [
  {
   "cell_type": "markdown",
   "metadata": {},
   "source": [
    "I will pose some questions -- minimum three and then I will evaluate the data to find the answers.\n",
    "what is common among the most popular dogs? (breed, name, etc.)\n",
    "what is common among least popular dogs?\n",
    "see how, breed, name of dog, dog stage, etc. effects its rating.\n",
    "what factors go into fetching a dog high ratings.\n",
    "are highly rated dogs most retweeted or liked?\n",
    "Q1: How does dog stage effect a dog's rating?\n",
    "Q2: Are highly rated dogs most liked or retweeted?\n",
    "Q3: Most common/popular dog name?\n",
    "\n",
    "\n",
    "Data is analysed to answer the following questions:\n",
    "How does dog stage effect a dog's rating?\n",
    "Are highly rated dogs most liked or retweeted?\n",
    "Most common/popular dog name?"
   ]
  },
  {
   "cell_type": "markdown",
   "metadata": {},
   "source": [
    "<img src=\"dog_stage.png\" style=\"float: center;\" width =\"500\" height=500 >"
   ]
  },
  {
   "cell_type": "markdown",
   "metadata": {},
   "source": [
    "puppo fetches the highest ratings while as pupper gets least rating.\n",
    "\n",
    "\n",
    "Highly rated dogs are not the most liked tweets or retweeted ones, even though, the dog tweets which get most retweet also get a lot of likes. It can also be seen dog tweets with lowest rating have high number of likes and shares.\n",
    "\n",
    "Lucy and charlie are the most common dog names.\n",
    "So, charlie is the most common dog name and also the most popular one.\n",
    "charlie and oliver both feature in the top five of both the most common dogname list and the most popular dog name list."
   ]
  },
  {
   "cell_type": "markdown",
   "metadata": {},
   "source": [
    "> **Limitations:**\n",
    "><li>Dog stage information was not available for all the database entries. So, whatever conclusions I drew from the analysis is based on a limited data sample.</li>\n",
    "><li>I have not explored the relationship between the time a tweet has been sitting on the WeRateDogs page and whether that allows it accumulate more likes and retweets. </li>\n",
    "><li>Extraction of names became complicated for tweets with more than one dog or for tweets where manual effort was required, so I only focused on removing wrong name entries and extracting dog names programmatically where possible. Thus, my analysis on the dog names is not based on entirety of the data available. </li>\n",
    "><li>I did not explore the impact of dog breed on the rating the dog garnered .This information can effect the rating we expect for a particular tweet on WeRateDogs platform. </li>\n",
    "\n",
    "\n",
    "I can conclude from the analysis that a dog which is a puppo gets rated highly and next to it comes doggo. The ratings are even better if there is more than one dog in the picture, with some in the doggo stage and some in puppo stage. Also,low rating on a dog tweet does not mean that it will have least favouirte count or less number of retweets, infact I observed the opposite but this can be also be because of the lifetime the tweet has spent sitting on the platform (something I did not explore). Lastly, one way to influence higher rating for your dog can be done by naming him one of the 5 most popular names like Stanley, Daisy, Charlie, Oliver or Tucker but if you also want the names to be unique then avoid the name Charlie and Oliver because they feature in the most common dog names list as well."
   ]
  },
  {
   "cell_type": "code",
   "execution_count": null,
   "metadata": {},
   "outputs": [],
   "source": []
  }
 ],
 "metadata": {
  "kernelspec": {
   "display_name": "Python 3",
   "language": "python",
   "name": "python3"
  },
  "language_info": {
   "codemirror_mode": {
    "name": "ipython",
    "version": 3
   },
   "file_extension": ".py",
   "mimetype": "text/x-python",
   "name": "python",
   "nbconvert_exporter": "python",
   "pygments_lexer": "ipython3",
   "version": "3.7.6"
  }
 },
 "nbformat": 4,
 "nbformat_minor": 4
}
